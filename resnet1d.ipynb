{
  "nbformat": 4,
  "nbformat_minor": 0,
  "metadata": {
    "colab": {
      "provenance": [],
      "gpuType": "T4",
      "toc_visible": true
    },
    "kernelspec": {
      "name": "python3",
      "display_name": "Python 3"
    },
    "language_info": {
      "name": "python"
    },
    "accelerator": "GPU"
  },
  "cells": [
    {
      "cell_type": "markdown",
      "source": [
        "# ResNet1D Model for ECG Classification"
      ],
      "metadata": {
        "id": "OS1vbXS6j6Sh"
      }
    },
    {
      "cell_type": "code",
      "execution_count": null,
      "metadata": {
        "colab": {
          "base_uri": "https://localhost:8080/"
        },
        "id": "FSIBrjbE-mW1",
        "outputId": "e1b620c9-91bc-45b1-b173-2abe3971f952"
      },
      "outputs": [
        {
          "output_type": "stream",
          "name": "stdout",
          "text": [
            "Mounted at /content/drive\n"
          ]
        }
      ],
      "source": [
        "from google.colab import drive\n",
        "drive.mount('/content/drive')"
      ]
    },
    {
      "cell_type": "code",
      "source": [
        "import os\n",
        "output_dir = \"/content/drive/Shareddrives/Labs CompBioMed/results\"##\n",
        "os.makedirs(output_dir, exist_ok=True)"
      ],
      "metadata": {
        "id": "1Gnies7-EFLw"
      },
      "execution_count": null,
      "outputs": []
    },
    {
      "cell_type": "code",
      "source": [
        "import zipfile\n",
        "\n",
        "zip_path = \"/content/drive/Shareddrives/Labs CompBioMed/data.zip\"\n",
        "\n",
        "# Local directory to extract into\n",
        "extract_path = \"/content/data\"\n",
        "os.makedirs(extract_path, exist_ok=True)\n",
        "\n",
        "# Unzip safely\n",
        "with zipfile.ZipFile(zip_path, 'r') as zip_ref:\n",
        "    zip_ref.extractall(extract_path)\n",
        "\n",
        "print(\"Extraction completed!\")"
      ],
      "metadata": {
        "colab": {
          "base_uri": "https://localhost:8080/"
        },
        "id": "4icTnpGQ-qqp",
        "outputId": "7146b5ee-b51e-47ed-dd62-9e7ec4a084f1"
      },
      "execution_count": null,
      "outputs": [
        {
          "output_type": "stream",
          "name": "stdout",
          "text": [
            "Extraction completed!\n"
          ]
        }
      ]
    },
    {
      "cell_type": "code",
      "source": [
        "!pip install wfdb"
      ],
      "metadata": {
        "colab": {
          "base_uri": "https://localhost:8080/"
        },
        "id": "sE1a4whF_QuK",
        "outputId": "55caa6cd-2a0c-4c35-9258-246b6708b1ad"
      },
      "execution_count": null,
      "outputs": [
        {
          "output_type": "stream",
          "name": "stdout",
          "text": [
            "Collecting wfdb\n",
            "  Downloading wfdb-4.3.0-py3-none-any.whl.metadata (3.8 kB)\n",
            "Requirement already satisfied: aiohttp>=3.10.11 in /usr/local/lib/python3.11/dist-packages (from wfdb) (3.11.15)\n",
            "Requirement already satisfied: fsspec>=2023.10.0 in /usr/local/lib/python3.11/dist-packages (from wfdb) (2025.3.2)\n",
            "Requirement already satisfied: matplotlib>=3.2.2 in /usr/local/lib/python3.11/dist-packages (from wfdb) (3.10.0)\n",
            "Requirement already satisfied: numpy>=1.26.4 in /usr/local/lib/python3.11/dist-packages (from wfdb) (2.0.2)\n",
            "Collecting pandas>=2.2.3 (from wfdb)\n",
            "  Downloading pandas-2.2.3-cp311-cp311-manylinux_2_17_x86_64.manylinux2014_x86_64.whl.metadata (89 kB)\n",
            "\u001b[2K     \u001b[90m━━━━━━━━━━━━━━━━━━━━━━━━━━━━━━━━━━━━━━━━\u001b[0m \u001b[32m89.9/89.9 kB\u001b[0m \u001b[31m3.7 MB/s\u001b[0m eta \u001b[36m0:00:00\u001b[0m\n",
            "\u001b[?25hRequirement already satisfied: requests>=2.8.1 in /usr/local/lib/python3.11/dist-packages (from wfdb) (2.32.3)\n",
            "Requirement already satisfied: scipy>=1.13.0 in /usr/local/lib/python3.11/dist-packages (from wfdb) (1.15.3)\n",
            "Requirement already satisfied: soundfile>=0.10.0 in /usr/local/lib/python3.11/dist-packages (from wfdb) (0.13.1)\n",
            "Requirement already satisfied: aiohappyeyeballs>=2.3.0 in /usr/local/lib/python3.11/dist-packages (from aiohttp>=3.10.11->wfdb) (2.6.1)\n",
            "Requirement already satisfied: aiosignal>=1.1.2 in /usr/local/lib/python3.11/dist-packages (from aiohttp>=3.10.11->wfdb) (1.3.2)\n",
            "Requirement already satisfied: attrs>=17.3.0 in /usr/local/lib/python3.11/dist-packages (from aiohttp>=3.10.11->wfdb) (25.3.0)\n",
            "Requirement already satisfied: frozenlist>=1.1.1 in /usr/local/lib/python3.11/dist-packages (from aiohttp>=3.10.11->wfdb) (1.6.0)\n",
            "Requirement already satisfied: multidict<7.0,>=4.5 in /usr/local/lib/python3.11/dist-packages (from aiohttp>=3.10.11->wfdb) (6.4.3)\n",
            "Requirement already satisfied: propcache>=0.2.0 in /usr/local/lib/python3.11/dist-packages (from aiohttp>=3.10.11->wfdb) (0.3.1)\n",
            "Requirement already satisfied: yarl<2.0,>=1.17.0 in /usr/local/lib/python3.11/dist-packages (from aiohttp>=3.10.11->wfdb) (1.20.0)\n",
            "Requirement already satisfied: contourpy>=1.0.1 in /usr/local/lib/python3.11/dist-packages (from matplotlib>=3.2.2->wfdb) (1.3.2)\n",
            "Requirement already satisfied: cycler>=0.10 in /usr/local/lib/python3.11/dist-packages (from matplotlib>=3.2.2->wfdb) (0.12.1)\n",
            "Requirement already satisfied: fonttools>=4.22.0 in /usr/local/lib/python3.11/dist-packages (from matplotlib>=3.2.2->wfdb) (4.57.0)\n",
            "Requirement already satisfied: kiwisolver>=1.3.1 in /usr/local/lib/python3.11/dist-packages (from matplotlib>=3.2.2->wfdb) (1.4.8)\n",
            "Requirement already satisfied: packaging>=20.0 in /usr/local/lib/python3.11/dist-packages (from matplotlib>=3.2.2->wfdb) (24.2)\n",
            "Requirement already satisfied: pillow>=8 in /usr/local/lib/python3.11/dist-packages (from matplotlib>=3.2.2->wfdb) (11.2.1)\n",
            "Requirement already satisfied: pyparsing>=2.3.1 in /usr/local/lib/python3.11/dist-packages (from matplotlib>=3.2.2->wfdb) (3.2.3)\n",
            "Requirement already satisfied: python-dateutil>=2.7 in /usr/local/lib/python3.11/dist-packages (from matplotlib>=3.2.2->wfdb) (2.9.0.post0)\n",
            "Requirement already satisfied: pytz>=2020.1 in /usr/local/lib/python3.11/dist-packages (from pandas>=2.2.3->wfdb) (2025.2)\n",
            "Requirement already satisfied: tzdata>=2022.7 in /usr/local/lib/python3.11/dist-packages (from pandas>=2.2.3->wfdb) (2025.2)\n",
            "Requirement already satisfied: charset-normalizer<4,>=2 in /usr/local/lib/python3.11/dist-packages (from requests>=2.8.1->wfdb) (3.4.2)\n",
            "Requirement already satisfied: idna<4,>=2.5 in /usr/local/lib/python3.11/dist-packages (from requests>=2.8.1->wfdb) (3.10)\n",
            "Requirement already satisfied: urllib3<3,>=1.21.1 in /usr/local/lib/python3.11/dist-packages (from requests>=2.8.1->wfdb) (2.4.0)\n",
            "Requirement already satisfied: certifi>=2017.4.17 in /usr/local/lib/python3.11/dist-packages (from requests>=2.8.1->wfdb) (2025.4.26)\n",
            "Requirement already satisfied: cffi>=1.0 in /usr/local/lib/python3.11/dist-packages (from soundfile>=0.10.0->wfdb) (1.17.1)\n",
            "Requirement already satisfied: pycparser in /usr/local/lib/python3.11/dist-packages (from cffi>=1.0->soundfile>=0.10.0->wfdb) (2.22)\n",
            "Requirement already satisfied: six>=1.5 in /usr/local/lib/python3.11/dist-packages (from python-dateutil>=2.7->matplotlib>=3.2.2->wfdb) (1.17.0)\n",
            "Downloading wfdb-4.3.0-py3-none-any.whl (163 kB)\n",
            "\u001b[2K   \u001b[90m━━━━━━━━━━━━━━━━━━━━━━━━━━━━━━━━━━━━━━━━\u001b[0m \u001b[32m163.8/163.8 kB\u001b[0m \u001b[31m8.4 MB/s\u001b[0m eta \u001b[36m0:00:00\u001b[0m\n",
            "\u001b[?25hDownloading pandas-2.2.3-cp311-cp311-manylinux_2_17_x86_64.manylinux2014_x86_64.whl (13.1 MB)\n",
            "\u001b[2K   \u001b[90m━━━━━━━━━━━━━━━━━━━━━━━━━━━━━━━━━━━━━━━━\u001b[0m \u001b[32m13.1/13.1 MB\u001b[0m \u001b[31m119.5 MB/s\u001b[0m eta \u001b[36m0:00:00\u001b[0m\n",
            "\u001b[?25hInstalling collected packages: pandas, wfdb\n",
            "  Attempting uninstall: pandas\n",
            "    Found existing installation: pandas 2.2.2\n",
            "    Uninstalling pandas-2.2.2:\n",
            "      Successfully uninstalled pandas-2.2.2\n",
            "\u001b[31mERROR: pip's dependency resolver does not currently take into account all the packages that are installed. This behaviour is the source of the following dependency conflicts.\n",
            "google-colab 1.0.0 requires pandas==2.2.2, but you have pandas 2.2.3 which is incompatible.\u001b[0m\u001b[31m\n",
            "\u001b[0mSuccessfully installed pandas-2.2.3 wfdb-4.3.0\n"
          ]
        }
      ]
    },
    {
      "cell_type": "code",
      "source": [
        "import torch\n",
        "\n",
        "device = torch.device(\"cuda\" if torch.cuda.is_available() else \"cpu\")\n",
        "print(f'Using device: {device}')"
      ],
      "metadata": {
        "colab": {
          "base_uri": "https://localhost:8080/"
        },
        "id": "WvJtWcIf_Rfq",
        "outputId": "741b2532-8820-4d8a-a1a8-9aa2250a5435"
      },
      "execution_count": null,
      "outputs": [
        {
          "output_type": "stream",
          "name": "stdout",
          "text": [
            "Using device: cuda\n"
          ]
        }
      ]
    },
    {
      "cell_type": "markdown",
      "source": [
        "## 1. Label Preparation for Model Training"
      ],
      "metadata": {
        "id": "nKI6iEx6kG5T"
      }
    },
    {
      "cell_type": "code",
      "source": [
        "import pandas as pd\n",
        "import numpy as np\n",
        "import glob\n",
        "from sklearn.preprocessing import MultiLabelBinarizer\n",
        "from ast import literal_eval\n",
        "import wfdb\n",
        "\n",
        "# Paths\n",
        "base_dir = \"/content/data/data\"\n",
        "csv_path = os.path.join(base_dir, \"ptbxl_database.csv\")\n",
        "record_dir = os.path.join(base_dir, \"records100\")\n",
        "scp_path = os.path.join(base_dir, \"scp_statements.csv\")\n",
        "\n",
        "# Load metadata\n",
        "variables = pd.read_csv(csv_path, index_col=0)\n",
        "\n",
        "# Get all .dat files\n",
        "files = glob.glob(os.path.join(record_dir, \"**\", \"*.dat\"), recursive=True)\n",
        "ecg_ids = [int(os.path.basename(f).split(\"_\")[0]) for f in files]\n",
        "variables = variables.loc[variables.index.isin(ecg_ids)]\n",
        "\n",
        "# Reorder to match ECG files\n",
        "ordered_indices = [i for i in ecg_ids if i in variables.index]\n",
        "variables = variables.loc[ordered_indices]\n",
        "\n",
        "# Decode scp_codes\n",
        "variables[\"scp_codes\"] = variables[\"scp_codes\"].apply(literal_eval)\n",
        "\n",
        "# Load diagnostic map\n",
        "scp_df = pd.read_csv(scp_path, index_col=0)\n",
        "scp_map = scp_df[scp_df[\"diagnostic_class\"].notnull()][\"diagnostic_class\"].to_dict()\n",
        "\n",
        "# Map to superclasses\n",
        "def map_to_superclass(scp_codes):\n",
        "    return list({scp_map[code] for code in scp_codes if code in scp_map})\n",
        "\n",
        "variables[\"diagnostic_superclass\"] = variables[\"scp_codes\"].apply(map_to_superclass)\n",
        "target_labels = {\"NORM\", \"MI\", \"STTC\"}\n",
        "variables = variables[variables[\"diagnostic_superclass\"].apply(lambda x: bool(set(x) & target_labels))]\n",
        "\n",
        "# Split into train and test\n",
        "test_fold = 10\n",
        "train_df = variables[variables[\"strat_fold\"] != test_fold]\n",
        "test_df = variables[variables[\"strat_fold\"] == test_fold]"
      ],
      "metadata": {
        "id": "rZeghUm6_TA0"
      },
      "execution_count": null,
      "outputs": []
    },
    {
      "cell_type": "markdown",
      "source": [
        "## 2. Signal Loading and Preprocessing"
      ],
      "metadata": {
        "id": "2W5EKVeOkPlT"
      }
    },
    {
      "cell_type": "code",
      "source": [
        "# Load raw data\n",
        "def load_raw_data(df, base_path):\n",
        "    signals = []\n",
        "    for path in df[\"filename_lr\"]:\n",
        "        signal, _ = wfdb.rdsamp(os.path.join(base_path, path))\n",
        "        signals.append(signal)\n",
        "    return np.array(signals)\n",
        "\n",
        "X_train = load_raw_data(train_df, base_dir)\n",
        "X_test = load_raw_data(test_df, base_dir)\n",
        "\n",
        "# Normalize data\n",
        "def normalize(ecg):\n",
        "    return (ecg - np.mean(ecg, axis=0)) / (np.std(ecg, axis=0) + 1e-8)\n",
        "\n",
        "X_train = np.array([normalize(sig) for sig in X_train])\n",
        "X_test = np.array([normalize(sig) for sig in X_test])\n",
        "\n",
        "# Binarize labels\n",
        "mlb = MultiLabelBinarizer(classes=[\"NORM\", \"MI\", \"STTC\"])\n",
        "mlb.fit(variables[\"diagnostic_superclass\"])  # fit on full data\n",
        "\n",
        "y_train = mlb.transform(train_df[\"diagnostic_superclass\"])\n",
        "y_test = mlb.transform(test_df[\"diagnostic_superclass\"])"
      ],
      "metadata": {
        "colab": {
          "base_uri": "https://localhost:8080/"
        },
        "id": "Eg9DHyvAkPEA",
        "outputId": "5df97eb4-84fe-4e30-b644-2de23bb4abf7"
      },
      "execution_count": null,
      "outputs": [
        {
          "output_type": "stream",
          "name": "stderr",
          "text": [
            "/usr/local/lib/python3.11/dist-packages/sklearn/preprocessing/_label.py:909: UserWarning: unknown class(es) ['CD', 'HYP'] will be ignored\n",
            "  warnings.warn(\n"
          ]
        }
      ]
    },
    {
      "cell_type": "markdown",
      "source": [
        "## 3. ResNet1D Architecture"
      ],
      "metadata": {
        "id": "xfIQhryCkUAY"
      }
    },
    {
      "cell_type": "code",
      "source": [
        "import torch.nn as nn\n",
        "import torch.nn.functional as F\n",
        "\n",
        "# Helper: 1D convolution with same padding\n",
        "def conv(in_planes, out_planes, kernel_size=3, stride=1):\n",
        "    return nn.Conv1d(in_planes, out_planes, kernel_size=kernel_size, stride=stride,\n",
        "                     padding=(kernel_size - 1) // 2, bias=False)\n",
        "\n",
        "# Basic ResNet block for 1D\n",
        "class BasicBlock1D(nn.Module):\n",
        "    expansion = 1\n",
        "    def __init__(self, in_planes, planes, stride=1, downsample=None, kernel_size=3):\n",
        "        super().__init__()\n",
        "        self.conv1 = conv(in_planes, planes, kernel_size, stride)\n",
        "        self.bn1 = nn.BatchNorm1d(planes)\n",
        "        self.relu = nn.ReLU(inplace=True)\n",
        "        self.conv2 = conv(planes, planes, kernel_size)\n",
        "        self.bn2 = nn.BatchNorm1d(planes)\n",
        "        self.downsample = downsample\n",
        "\n",
        "    def forward(self, x):\n",
        "        identity = x if self.downsample is None else self.downsample(x)\n",
        "        out = self.relu(self.bn1(self.conv1(x)))\n",
        "        out = self.bn2(self.conv2(out))\n",
        "        out += identity\n",
        "        return self.relu(out)\n",
        "\n",
        "class ResNet1D(nn.Module):\n",
        "    def __init__(self, block, layers, in_channels=12, num_classes=3, base_filters=64):\n",
        "        super().__init__()\n",
        "        self.in_planes = base_filters\n",
        "        self.conv1 = nn.Conv1d(in_channels, base_filters, kernel_size=7, stride=2, padding=3, bias=False)\n",
        "        self.bn1 = nn.BatchNorm1d(base_filters)\n",
        "        self.relu = nn.ReLU(inplace=True)\n",
        "        self.maxpool = nn.MaxPool1d(kernel_size=3, stride=2, padding=1)\n",
        "\n",
        "        self.layer1 = self._make_layer(block, base_filters, layers[0])\n",
        "        self.layer2 = self._make_layer(block, base_filters * 2, layers[1], stride=2)\n",
        "        self.layer3 = self._make_layer(block, base_filters * 4, layers[2], stride=2)\n",
        "        self.layer4 = self._make_layer(block, base_filters * 8, layers[3], stride=2)\n",
        "\n",
        "        self.avgpool = nn.AdaptiveAvgPool1d(1)\n",
        "        self.fc = nn.Linear(base_filters * 8 * block.expansion, num_classes)\n",
        "\n",
        "        # Adding dropout layer\n",
        "        self.dropout = nn.Dropout(0.5)  # Apply dropout with 50% probability\n",
        "\n",
        "    def _make_layer(self, block, planes, num_blocks, stride=1):\n",
        "        downsample = None\n",
        "        if stride != 1 or self.in_planes != planes * block.expansion:\n",
        "            downsample = nn.Sequential(\n",
        "                nn.Conv1d(self.in_planes, planes * block.expansion, kernel_size=1, stride=stride, bias=False),\n",
        "                nn.BatchNorm1d(planes * block.expansion),\n",
        "            )\n",
        "        layers = [block(self.in_planes, planes, stride, downsample)]\n",
        "        self.in_planes = planes * block.expansion\n",
        "        for _ in range(1, num_blocks):\n",
        "            layers.append(block(self.in_planes, planes))\n",
        "        return nn.Sequential(*layers)\n",
        "\n",
        "    def forward(self, x):\n",
        "        x = self.relu(self.bn1(self.conv1(x)))\n",
        "        x = self.maxpool(x)\n",
        "\n",
        "        x = self.layer1(x)\n",
        "        x = self.layer2(x)\n",
        "        x = self.layer3(x)\n",
        "        x = self.layer4(x)\n",
        "\n",
        "        x = self.avgpool(x).squeeze(-1)\n",
        "        x = self.dropout(x)  # Apply dropout before the fully connected layer\n",
        "        return self.fc(x)"
      ],
      "metadata": {
        "id": "hjA4B-1W_fKx"
      },
      "execution_count": null,
      "outputs": []
    },
    {
      "cell_type": "markdown",
      "source": [
        "## 4. Model Training and Evaluation"
      ],
      "metadata": {
        "id": "mMM61gUMlFKv"
      }
    },
    {
      "cell_type": "code",
      "source": [
        "# Training setup\n",
        "import torch\n",
        "import torch.nn as nn\n",
        "from torch.utils.data import TensorDataset, DataLoader\n",
        "\n",
        "# Move data to PyTorch tensors\n",
        "X_train_tensor = torch.tensor(X_train, dtype=torch.float32).permute(0, 2, 1)  # (N, C, L)\n",
        "y_train_tensor = torch.tensor(y_train, dtype=torch.float32)\n",
        "X_test_tensor = torch.tensor(X_test, dtype=torch.float32).permute(0, 2, 1)\n",
        "y_test_tensor = torch.tensor(y_test, dtype=torch.float32)\n",
        "\n",
        "# Create DataLoaders\n",
        "train_loader = DataLoader(TensorDataset(X_train_tensor, y_train_tensor), batch_size=64, shuffle=True)\n",
        "test_loader = DataLoader(TensorDataset(X_test_tensor, y_test_tensor), batch_size=64)\n",
        "\n",
        "# Model, loss, optimizer\n",
        "model = ResNet1D(BasicBlock1D, [1, 1, 1, 1], in_channels=12, num_classes=3).to(device)\n",
        "criterion = nn.BCEWithLogitsLoss()\n",
        "optimizer = torch.optim.Adam(model.parameters(), lr=1e-3)\n",
        "\n",
        "# Training loop\n",
        "epochs = 50\n",
        "train_losses, test_losses = [], []\n",
        "train_accuracies, test_accuracies = [], []\n",
        "\n",
        "# Early stopping\n",
        "best_loss = float('inf')\n",
        "patience = 5\n",
        "patience_counter = 0\n",
        "best_epoch = 0"
      ],
      "metadata": {
        "id": "JpVyzQL4kmaR"
      },
      "execution_count": null,
      "outputs": []
    },
    {
      "cell_type": "code",
      "source": [
        "# Training loop\n",
        "for epoch in range(epochs):\n",
        "    model.train()\n",
        "    correct, total, train_loss = 0, 0, 0\n",
        "    for X_batch, y_batch in train_loader:\n",
        "        X_batch, y_batch = X_batch.to(device), y_batch.to(device)\n",
        "        optimizer.zero_grad()\n",
        "        outputs = model(X_batch)\n",
        "        loss = criterion(outputs, y_batch)\n",
        "        loss.backward()\n",
        "        optimizer.step()\n",
        "        train_loss += loss.item() * X_batch.size(0)\n",
        "        preds = (torch.sigmoid(outputs) > 0.5).float()\n",
        "        correct += (preds == y_batch).all(dim=1).sum().item()\n",
        "        total += y_batch.size(0)\n",
        "    train_losses.append(train_loss / total)\n",
        "    train_accuracies.append(correct / total)\n",
        "\n",
        "    # Evaluation\n",
        "    model.eval()\n",
        "    correct, total, test_loss = 0, 0, 0\n",
        "    with torch.no_grad():\n",
        "        for X_batch, y_batch in test_loader:\n",
        "            X_batch, y_batch = X_batch.to(device), y_batch.to(device)\n",
        "            outputs = model(X_batch)\n",
        "            loss = criterion(outputs, y_batch)\n",
        "            test_loss += loss.item() * X_batch.size(0)\n",
        "            preds = (torch.sigmoid(outputs) > 0.5).float()\n",
        "            correct += (preds == y_batch).all(dim=1).sum().item()\n",
        "            total += y_batch.size(0)\n",
        "    test_losses.append(test_loss / total)\n",
        "    test_accuracies.append(correct / total)\n",
        "\n",
        "    # Early stopping logic\n",
        "    if test_losses[-1] < best_loss:\n",
        "        best_loss = test_losses[-1]\n",
        "        best_epoch = epoch + 1\n",
        "        patience_counter = 0\n",
        "        torch.save(model.state_dict(), \"best_model.pt\")\n",
        "        print(f\"Best model saved at epoch {epoch+1} with test loss {best_loss:.4f}\")\n",
        "    else:\n",
        "        patience_counter += 1\n",
        "        if patience_counter >= patience:\n",
        "            print(f\"Early stopping triggered at epoch {epoch+1} (Best epoch was {best_epoch})\")\n",
        "            break\n",
        "\n",
        "    print(f\"Epoch {epoch+1}: Train Loss={train_losses[-1]:.4f}, Test Loss={test_losses[-1]:.4f}, Train Acc={train_accuracies[-1]:.4f}, Test Acc={test_accuracies[-1]:.4f}\")"
      ],
      "metadata": {
        "colab": {
          "base_uri": "https://localhost:8080/"
        },
        "id": "YQDS0a8oAYOL",
        "outputId": "2613b7b4-9376-4b64-f104-ccc89362d77d"
      },
      "execution_count": null,
      "outputs": [
        {
          "output_type": "stream",
          "name": "stdout",
          "text": [
            "Best model saved at epoch 1 with test loss 0.3254\n",
            "Epoch 1: Train Loss=0.3357, Test Loss=0.3254, Train Acc=0.7043, Test Acc=0.7340\n",
            "Best model saved at epoch 2 with test loss 0.3044\n",
            "Epoch 2: Train Loss=0.2988, Test Loss=0.3044, Train Acc=0.7356, Test Acc=0.7213\n",
            "Epoch 3: Train Loss=0.2785, Test Loss=0.3374, Train Acc=0.7544, Test Acc=0.7499\n",
            "Epoch 4: Train Loss=0.2704, Test Loss=0.3398, Train Acc=0.7648, Test Acc=0.7441\n",
            "Epoch 5: Train Loss=0.2635, Test Loss=0.3123, Train Acc=0.7665, Test Acc=0.7525\n",
            "Best model saved at epoch 6 with test loss 0.2821\n",
            "Epoch 6: Train Loss=0.2531, Test Loss=0.2821, Train Acc=0.7790, Test Acc=0.7530\n",
            "Epoch 7: Train Loss=0.2457, Test Loss=0.2937, Train Acc=0.7795, Test Acc=0.7536\n",
            "Epoch 8: Train Loss=0.2386, Test Loss=0.2849, Train Acc=0.7844, Test Acc=0.7493\n",
            "Epoch 9: Train Loss=0.2327, Test Loss=0.2871, Train Acc=0.7952, Test Acc=0.7710\n",
            "Epoch 10: Train Loss=0.2234, Test Loss=0.2914, Train Acc=0.8010, Test Acc=0.7488\n",
            "Early stopping triggered at epoch 11 (Best epoch was 6)\n"
          ]
        }
      ]
    },
    {
      "cell_type": "code",
      "source": [
        "# Load best model\n",
        "model.load_state_dict(torch.load(\"best_model.pt\"))\n",
        "model.eval()\n",
        "\n",
        "# Re-evaluate on test set\n",
        "correct, total, test_loss = 0, 0, 0\n",
        "with torch.no_grad():\n",
        "    for X_batch, y_batch in test_loader:\n",
        "        X_batch, y_batch = X_batch.to(device), y_batch.to(device)\n",
        "        outputs = model(X_batch)\n",
        "        loss = criterion(outputs, y_batch)\n",
        "        test_loss += loss.item() * X_batch.size(0)\n",
        "        preds = (torch.sigmoid(outputs) > 0.5).float()\n",
        "        correct += (preds == y_batch).all(dim=1).sum().item()\n",
        "        total += y_batch.size(0)\n",
        "\n",
        "final_loss = test_loss / total\n",
        "final_acc = correct / total\n",
        "print(f\"Best model test loss: {final_loss:.4f}\")\n",
        "print(f\"Best model test subset accuracy: {final_acc:.4f}\")"
      ],
      "metadata": {
        "colab": {
          "base_uri": "https://localhost:8080/"
        },
        "id": "jBkY8nqhOhFM",
        "outputId": "8b297778-7acc-441d-f1cd-3ab56a56da00"
      },
      "execution_count": null,
      "outputs": [
        {
          "output_type": "stream",
          "name": "stdout",
          "text": [
            "Best model test loss: 0.2821\n",
            "Best model test subset accuracy: 0.7530\n"
          ]
        }
      ]
    },
    {
      "cell_type": "code",
      "source": [
        "import matplotlib.pyplot as plt\n",
        "\n",
        "# Epochs range starting at 1\n",
        "epochs_range = range(1, len(train_losses) + 1)\n",
        "\n",
        "plt.figure(figsize=(12, 4))\n",
        "\n",
        "# Plot Loss\n",
        "plt.subplot(1, 2, 1)\n",
        "plt.plot(epochs_range, train_losses, label='Train Loss')\n",
        "plt.plot(epochs_range, test_losses, label='Test Loss')\n",
        "plt.axvline(best_epoch, color='r', linestyle='--', label=f'Best Epoch ({best_epoch})')\n",
        "plt.title('Loss per Epoch')\n",
        "plt.xlabel('Epoch')\n",
        "plt.ylabel('Loss')\n",
        "plt.xticks(range(1, len(train_losses) + 1, 2))\n",
        "plt.legend()\n",
        "\n",
        "# Plot Accuracy\n",
        "plt.subplot(1, 2, 2)\n",
        "plt.plot(epochs_range, train_accuracies, label='Train Accuracy')\n",
        "plt.plot(epochs_range, test_accuracies, label='Test Accuracy')\n",
        "plt.axvline(best_epoch, color='r', linestyle='--', label=f'Best Epoch ({best_epoch})')\n",
        "plt.title('Accuracy per Epoch')\n",
        "plt.xlabel('Epoch')\n",
        "plt.ylabel('Accuracy')\n",
        "plt.xticks(range(1, len(train_accuracies) + 1, 2))\n",
        "plt.legend()\n",
        "plt.tight_layout()\n",
        "resnet_plot_path = os.path.join(output_dir, \"resnet_loss_acc_curves.png\")\n",
        "plt.savefig(resnet_plot_path)\n",
        "plt.show()"
      ],
      "metadata": {
        "colab": {
          "base_uri": "https://localhost:8080/",
          "height": 403
        },
        "id": "wORSJB_WB1Or",
        "outputId": "3cd74085-3937-49b5-895f-66d096b04f6b"
      },
      "execution_count": null,
      "outputs": [
        {
          "output_type": "display_data",
          "data": {
            "text/plain": [
              "<Figure size 1200x400 with 2 Axes>"
            ],
            "image/png": "[encoded data removed]"
          },
          "metadata": {}
        }
      ]
    },
    {
      "cell_type": "code",
      "source": [
        "from sklearn.metrics import classification_report, hamming_loss\n",
        "\n",
        "model.eval()\n",
        "all_preds = []\n",
        "all_labels = []\n",
        "\n",
        "with torch.no_grad():\n",
        "    for X_batch, y_batch in test_loader:\n",
        "        X_batch = X_batch.to(device)\n",
        "        outputs = model(X_batch)\n",
        "        preds = (torch.sigmoid(outputs) > 0.5).cpu().numpy()\n",
        "        all_preds.append(preds)\n",
        "        all_labels.append(y_batch.numpy())\n",
        "\n",
        "# Concatenate all batches\n",
        "all_preds = np.vstack(all_preds)\n",
        "all_labels = np.vstack(all_labels)\n",
        "\n",
        "# Get label names\n",
        "label_names = mlb.classes_\n",
        "\n",
        "print(classification_report(all_labels, all_preds, target_names=label_names, digits=4))\n",
        "print(f\"Hamming Loss: {hamming_loss(all_labels, all_preds):.4f}\")"
      ],
      "metadata": {
        "colab": {
          "base_uri": "https://localhost:8080/"
        },
        "id": "ocJk9PUlRM-v",
        "outputId": "1cb69756-43de-4210-b61e-85ac6b950f12"
      },
      "execution_count": null,
      "outputs": [
        {
          "output_type": "stream",
          "name": "stdout",
          "text": [
            "              precision    recall  f1-score   support\n",
            "\n",
            "        NORM     0.8655    0.9086    0.8865       963\n",
            "          MI     0.8593    0.6327    0.7288       550\n",
            "        STTC     0.7706    0.8061    0.7880       521\n",
            "\n",
            "   micro avg     0.8378    0.8078    0.8225      2034\n",
            "   macro avg     0.8318    0.7825    0.8011      2034\n",
            "weighted avg     0.8395    0.8078    0.8186      2034\n",
            " samples avg     0.8191    0.8186    0.8116      2034\n",
            "\n",
            "Hamming Loss: 0.1250\n"
          ]
        },
        {
          "output_type": "stream",
          "name": "stderr",
          "text": [
            "/usr/local/lib/python3.11/dist-packages/sklearn/metrics/_classification.py:1565: UndefinedMetricWarning: Precision is ill-defined and being set to 0.0 in samples with no predicted labels. Use `zero_division` parameter to control this behavior.\n",
            "  _warn_prf(average, modifier, f\"{metric.capitalize()} is\", len(result))\n"
          ]
        }
      ]
    }
  ]
}