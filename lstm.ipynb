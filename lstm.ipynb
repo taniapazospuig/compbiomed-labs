{
  "nbformat": 4,
  "nbformat_minor": 0,
  "metadata": {
    "colab": {
      "provenance": [],
      "gpuType": "T4",
      "toc_visible": true
    },
    "kernelspec": {
      "name": "python3",
      "display_name": "Python 3"
    },
    "language_info": {
      "name": "python"
    },
    "accelerator": "GPU"
  },
  "cells": [
    {
      "cell_type": "markdown",
      "source": [
        "# LSTM-Based Model for ECG Classification"
      ],
      "metadata": {
        "id": "Q7gYlkEol0RU"
      }
    },
    {
      "cell_type": "code",
      "execution_count": null,
      "metadata": {
        "id": "zQwWZOQmjRa-",
        "colab": {
          "base_uri": "https://localhost:8080/"
        },
        "outputId": "eaa458d0-fcda-4f1e-dc1e-a863a8eaad67"
      },
      "outputs": [
        {
          "output_type": "stream",
          "name": "stdout",
          "text": [
            "Mounted at /content/drive\n"
          ]
        }
      ],
      "source": [
        "from google.colab import drive\n",
        "drive.mount('/content/drive')"
      ]
    },
    {
      "cell_type": "code",
      "source": [
        "import os\n",
        "output_dir = \"/content/drive/Shareddrives/Labs CompBioMed/results\"\n",
        "os.makedirs(output_dir, exist_ok=True)"
      ],
      "metadata": {
        "id": "4uyktVKIFYef"
      },
      "execution_count": null,
      "outputs": []
    },
    {
      "cell_type": "code",
      "source": [
        "# Change these paths accordingly\n",
        "import zipfile\n",
        "\n",
        "zip_path = \"/content/drive/Shareddrives/Labs CompBioMed/data.zip\"\n",
        "extract_path = \"/content/data\"\n",
        "os.makedirs(extract_path, exist_ok=True)\n",
        "\n",
        "with zipfile.ZipFile(zip_path, 'r') as zip_ref:\n",
        "    zip_ref.extractall(extract_path)\n",
        "\n",
        "print(\"Extraction completed!\")"
      ],
      "metadata": {
        "id": "ztkNfzOqjnvE",
        "colab": {
          "base_uri": "https://localhost:8080/"
        },
        "outputId": "0ba216f4-2ce6-40ae-f5bf-d392bda89213"
      },
      "execution_count": null,
      "outputs": [
        {
          "output_type": "stream",
          "name": "stdout",
          "text": [
            "Extraction completed!\n"
          ]
        }
      ]
    },
    {
      "cell_type": "code",
      "source": [
        "!pip install wfdb"
      ],
      "metadata": {
        "colab": {
          "base_uri": "https://localhost:8080/"
        },
        "id": "1vEtEridmWQa",
        "outputId": "f7241c45-a555-407c-b4a8-00e306bf31ef"
      },
      "execution_count": null,
      "outputs": [
        {
          "output_type": "stream",
          "name": "stdout",
          "text": [
            "Collecting wfdb\n",
            "  Downloading wfdb-4.3.0-py3-none-any.whl.metadata (3.8 kB)\n",
            "Requirement already satisfied: aiohttp>=3.10.11 in /usr/local/lib/python3.11/dist-packages (from wfdb) (3.11.15)\n",
            "Requirement already satisfied: fsspec>=2023.10.0 in /usr/local/lib/python3.11/dist-packages (from wfdb) (2025.3.2)\n",
            "Requirement already satisfied: matplotlib>=3.2.2 in /usr/local/lib/python3.11/dist-packages (from wfdb) (3.10.0)\n",
            "Requirement already satisfied: numpy>=1.26.4 in /usr/local/lib/python3.11/dist-packages (from wfdb) (2.0.2)\n",
            "Collecting pandas>=2.2.3 (from wfdb)\n",
            "  Downloading pandas-2.2.3-cp311-cp311-manylinux_2_17_x86_64.manylinux2014_x86_64.whl.metadata (89 kB)\n",
            "\u001b[2K     \u001b[90m━━━━━━━━━━━━━━━━━━━━━━━━━━━━━━━━━━━━━━━━\u001b[0m \u001b[32m89.9/89.9 kB\u001b[0m \u001b[31m9.0 MB/s\u001b[0m eta \u001b[36m0:00:00\u001b[0m\n",
            "\u001b[?25hRequirement already satisfied: requests>=2.8.1 in /usr/local/lib/python3.11/dist-packages (from wfdb) (2.32.3)\n",
            "Requirement already satisfied: scipy>=1.13.0 in /usr/local/lib/python3.11/dist-packages (from wfdb) (1.15.3)\n",
            "Requirement already satisfied: soundfile>=0.10.0 in /usr/local/lib/python3.11/dist-packages (from wfdb) (0.13.1)\n",
            "Requirement already satisfied: aiohappyeyeballs>=2.3.0 in /usr/local/lib/python3.11/dist-packages (from aiohttp>=3.10.11->wfdb) (2.6.1)\n",
            "Requirement already satisfied: aiosignal>=1.1.2 in /usr/local/lib/python3.11/dist-packages (from aiohttp>=3.10.11->wfdb) (1.3.2)\n",
            "Requirement already satisfied: attrs>=17.3.0 in /usr/local/lib/python3.11/dist-packages (from aiohttp>=3.10.11->wfdb) (25.3.0)\n",
            "Requirement already satisfied: frozenlist>=1.1.1 in /usr/local/lib/python3.11/dist-packages (from aiohttp>=3.10.11->wfdb) (1.6.0)\n",
            "Requirement already satisfied: multidict<7.0,>=4.5 in /usr/local/lib/python3.11/dist-packages (from aiohttp>=3.10.11->wfdb) (6.4.3)\n",
            "Requirement already satisfied: propcache>=0.2.0 in /usr/local/lib/python3.11/dist-packages (from aiohttp>=3.10.11->wfdb) (0.3.1)\n",
            "Requirement already satisfied: yarl<2.0,>=1.17.0 in /usr/local/lib/python3.11/dist-packages (from aiohttp>=3.10.11->wfdb) (1.20.0)\n",
            "Requirement already satisfied: contourpy>=1.0.1 in /usr/local/lib/python3.11/dist-packages (from matplotlib>=3.2.2->wfdb) (1.3.2)\n",
            "Requirement already satisfied: cycler>=0.10 in /usr/local/lib/python3.11/dist-packages (from matplotlib>=3.2.2->wfdb) (0.12.1)\n",
            "Requirement already satisfied: fonttools>=4.22.0 in /usr/local/lib/python3.11/dist-packages (from matplotlib>=3.2.2->wfdb) (4.57.0)\n",
            "Requirement already satisfied: kiwisolver>=1.3.1 in /usr/local/lib/python3.11/dist-packages (from matplotlib>=3.2.2->wfdb) (1.4.8)\n",
            "Requirement already satisfied: packaging>=20.0 in /usr/local/lib/python3.11/dist-packages (from matplotlib>=3.2.2->wfdb) (24.2)\n",
            "Requirement already satisfied: pillow>=8 in /usr/local/lib/python3.11/dist-packages (from matplotlib>=3.2.2->wfdb) (11.2.1)\n",
            "Requirement already satisfied: pyparsing>=2.3.1 in /usr/local/lib/python3.11/dist-packages (from matplotlib>=3.2.2->wfdb) (3.2.3)\n",
            "Requirement already satisfied: python-dateutil>=2.7 in /usr/local/lib/python3.11/dist-packages (from matplotlib>=3.2.2->wfdb) (2.9.0.post0)\n",
            "Requirement already satisfied: pytz>=2020.1 in /usr/local/lib/python3.11/dist-packages (from pandas>=2.2.3->wfdb) (2025.2)\n",
            "Requirement already satisfied: tzdata>=2022.7 in /usr/local/lib/python3.11/dist-packages (from pandas>=2.2.3->wfdb) (2025.2)\n",
            "Requirement already satisfied: charset-normalizer<4,>=2 in /usr/local/lib/python3.11/dist-packages (from requests>=2.8.1->wfdb) (3.4.2)\n",
            "Requirement already satisfied: idna<4,>=2.5 in /usr/local/lib/python3.11/dist-packages (from requests>=2.8.1->wfdb) (3.10)\n",
            "Requirement already satisfied: urllib3<3,>=1.21.1 in /usr/local/lib/python3.11/dist-packages (from requests>=2.8.1->wfdb) (2.4.0)\n",
            "Requirement already satisfied: certifi>=2017.4.17 in /usr/local/lib/python3.11/dist-packages (from requests>=2.8.1->wfdb) (2025.4.26)\n",
            "Requirement already satisfied: cffi>=1.0 in /usr/local/lib/python3.11/dist-packages (from soundfile>=0.10.0->wfdb) (1.17.1)\n",
            "Requirement already satisfied: pycparser in /usr/local/lib/python3.11/dist-packages (from cffi>=1.0->soundfile>=0.10.0->wfdb) (2.22)\n",
            "Requirement already satisfied: six>=1.5 in /usr/local/lib/python3.11/dist-packages (from python-dateutil>=2.7->matplotlib>=3.2.2->wfdb) (1.17.0)\n",
            "Downloading wfdb-4.3.0-py3-none-any.whl (163 kB)\n",
            "\u001b[2K   \u001b[90m━━━━━━━━━━━━━━━━━━━━━━━━━━━━━━━━━━━━━━━━\u001b[0m \u001b[32m163.8/163.8 kB\u001b[0m \u001b[31m19.5 MB/s\u001b[0m eta \u001b[36m0:00:00\u001b[0m\n",
            "\u001b[?25hDownloading pandas-2.2.3-cp311-cp311-manylinux_2_17_x86_64.manylinux2014_x86_64.whl (13.1 MB)\n",
            "\u001b[2K   \u001b[90m━━━━━━━━━━━━━━━━━━━━━━━━━━━━━━━━━━━━━━━━\u001b[0m \u001b[32m13.1/13.1 MB\u001b[0m \u001b[31m21.7 MB/s\u001b[0m eta \u001b[36m0:00:00\u001b[0m\n",
            "\u001b[?25hInstalling collected packages: pandas, wfdb\n",
            "  Attempting uninstall: pandas\n",
            "    Found existing installation: pandas 2.2.2\n",
            "    Uninstalling pandas-2.2.2:\n",
            "      Successfully uninstalled pandas-2.2.2\n",
            "\u001b[31mERROR: pip's dependency resolver does not currently take into account all the packages that are installed. This behaviour is the source of the following dependency conflicts.\n",
            "google-colab 1.0.0 requires pandas==2.2.2, but you have pandas 2.2.3 which is incompatible.\u001b[0m\u001b[31m\n",
            "\u001b[0mSuccessfully installed pandas-2.2.3 wfdb-4.3.0\n"
          ]
        }
      ]
    },
    {
      "cell_type": "code",
      "source": [
        "import numpy as np\n",
        "import pandas as pd\n",
        "import torch\n",
        "import torch.nn as nn\n",
        "from torch.utils.data import TensorDataset, DataLoader\n",
        "import matplotlib.pyplot as plt\n",
        "from sklearn.preprocessing import MultiLabelBinarizer\n",
        "from sklearn.metrics import classification_report, hamming_loss\n",
        "from ast import literal_eval\n",
        "import glob\n",
        "import wfdb"
      ],
      "metadata": {
        "id": "Xiekm2W3jfAu"
      },
      "execution_count": null,
      "outputs": []
    },
    {
      "cell_type": "markdown",
      "source": [
        "## 1. Label Preparation for Model Training"
      ],
      "metadata": {
        "id": "1RTWPhM7l8nY"
      }
    },
    {
      "cell_type": "code",
      "source": [
        "# Preprocessing\n",
        "base_dir = \"/content/data/data\"\n",
        "csv_path = os.path.join(base_dir, \"ptbxl_database.csv\")\n",
        "record_dir = os.path.join(base_dir, \"records100\")\n",
        "scp_path = os.path.join(base_dir, \"scp_statements.csv\")\n",
        "\n",
        "variables = pd.read_csv(csv_path, index_col=0)\n",
        "files = glob.glob(os.path.join(record_dir, \"**\", \"*.dat\"), recursive=True)\n",
        "files = [f for f in files if f.endswith(\".dat\")]\n",
        "ecg_ids = [int(os.path.basename(f).split(\"_\")[0]) for f in files]\n",
        "variables = variables.loc[variables.index.isin(ecg_ids)]\n",
        "\n",
        "ordered_indices = [i for i in ecg_ids if i in variables.index]\n",
        "variables = variables.loc[ordered_indices]\n",
        "variables[\"scp_codes\"] = variables[\"scp_codes\"].apply(literal_eval)\n",
        "\n",
        "scp_df = pd.read_csv(scp_path, index_col=0)\n",
        "scp_map = scp_df[scp_df[\"diagnostic_class\"].notnull()][\"diagnostic_class\"].to_dict()\n",
        "\n",
        "def map_to_superclass(scp_codes):\n",
        "    return list({scp_map[code] for code in scp_codes if code in scp_map})\n",
        "\n",
        "variables[\"diagnostic_superclass\"] = variables[\"scp_codes\"].apply(map_to_superclass)\n",
        "target_labels = {\"NORM\", \"MI\", \"STTC\"}\n",
        "variables = variables[variables[\"diagnostic_superclass\"].apply(lambda x: bool(set(x) & target_labels))]\n",
        "\n",
        "# Train/test split\n",
        "test_fold = 10\n",
        "train_df = variables[variables[\"strat_fold\"] != test_fold]\n",
        "test_df = variables[variables[\"strat_fold\"] == test_fold]"
      ],
      "metadata": {
        "id": "exopckTxj7-H"
      },
      "execution_count": null,
      "outputs": []
    },
    {
      "cell_type": "markdown",
      "source": [
        "## 2. Signal Loading and Preprocessing"
      ],
      "metadata": {
        "id": "Qq64MNvUmEm0"
      }
    },
    {
      "cell_type": "code",
      "source": [
        "# Load raw signals\n",
        "def load_raw_data(df, base_path):\n",
        "    signals = []\n",
        "    for path in df[\"filename_lr\"]:\n",
        "        signal, _ = wfdb.rdsamp(os.path.join(base_path, path))\n",
        "        signals.append(signal)\n",
        "    return np.array(signals)\n",
        "\n",
        "X_train = load_raw_data(train_df, base_dir)\n",
        "X_test = load_raw_data(test_df, base_dir)\n",
        "\n",
        "def normalize(ecg):\n",
        "    return (ecg - np.mean(ecg, axis=0)) / (np.std(ecg, axis=0) + 1e-8)\n",
        "\n",
        "X_train = np.array([normalize(sig) for sig in X_train])\n",
        "X_test = np.array([normalize(sig) for sig in X_test])\n",
        "\n",
        "mlb = MultiLabelBinarizer(classes=[\"NORM\", \"MI\", \"STTC\"])\n",
        "mlb.fit(variables[\"diagnostic_superclass\"])\n",
        "\n",
        "y_train = mlb.transform(train_df[\"diagnostic_superclass\"])\n",
        "y_test = mlb.transform(test_df[\"diagnostic_superclass\"])\n",
        "\n",
        "# Count label occurrences in the multi-label training set\n",
        "label_counts = np.sum(y_train, axis=0)\n",
        "label_names = mlb.classes_\n",
        "\n",
        "print(\"\\nTraining label distribution:\")\n",
        "for label, count in zip(label_names, label_counts):\n",
        "    print(f\"{label}: {int(count)}\")"
      ],
      "metadata": {
        "colab": {
          "base_uri": "https://localhost:8080/"
        },
        "id": "7GwARa-imFT4",
        "outputId": "f3fef9ae-f4d0-4111-edd6-73cc4c170743"
      },
      "execution_count": null,
      "outputs": [
        {
          "output_type": "stream",
          "name": "stdout",
          "text": [
            "\n",
            "Training label distribution:\n",
            "NORM: 8551\n",
            "MI: 4919\n",
            "STTC: 4714\n"
          ]
        },
        {
          "output_type": "stream",
          "name": "stderr",
          "text": [
            "/usr/local/lib/python3.11/dist-packages/sklearn/preprocessing/_label.py:909: UserWarning: unknown class(es) ['CD', 'HYP'] will be ignored\n",
            "  warnings.warn(\n"
          ]
        }
      ]
    },
    {
      "cell_type": "code",
      "source": [
        "device = torch.device(\"cuda\" if torch.cuda.is_available() else \"cpu\")\n",
        "print(f\"Using device: {device}\")"
      ],
      "metadata": {
        "colab": {
          "base_uri": "https://localhost:8080/"
        },
        "id": "Y2OAL3JNoAmX",
        "outputId": "11a75864-23e4-4e13-f837-7fa3c778d753"
      },
      "execution_count": null,
      "outputs": [
        {
          "output_type": "stream",
          "name": "stdout",
          "text": [
            "Using device: cuda\n"
          ]
        }
      ]
    },
    {
      "cell_type": "markdown",
      "source": [
        "## 3. LSTM Architecture"
      ],
      "metadata": {
        "id": "B7wNENrGmNXh"
      }
    },
    {
      "cell_type": "code",
      "source": [
        "# Define LSTM1D Model\n",
        "class LSTM1D(nn.Module):\n",
        "    def __init__(self, input_channels=12, hidden_dim=128, num_classes=3, num_layers=2, dropout=0.3):\n",
        "        super().__init__()\n",
        "        self.lstm = nn.LSTM(input_size=input_channels,\n",
        "                            hidden_size=hidden_dim,\n",
        "                            num_layers=num_layers,\n",
        "                            batch_first=True,\n",
        "                            bidirectional=False,\n",
        "                            dropout=dropout)\n",
        "        self.classifier = nn.Sequential(\n",
        "            nn.AdaptiveAvgPool1d(1),\n",
        "            nn.Flatten(),\n",
        "            nn.Linear(hidden_dim, num_classes)\n",
        "        )\n",
        "\n",
        "    def forward(self, x):\n",
        "        x = x.permute(0, 2, 1)  # (N, C, L) -> (N, L, C)\n",
        "        lstm_out, _ = self.lstm(x)  # (N, L, hidden)\n",
        "        lstm_out = lstm_out.permute(0, 2, 1)  # (N, hidden, L)\n",
        "        return self.classifier(lstm_out)"
      ],
      "metadata": {
        "id": "C5JRVUS4j-7L"
      },
      "execution_count": null,
      "outputs": []
    },
    {
      "cell_type": "markdown",
      "source": [
        "## 4. Model Training and Evaluation"
      ],
      "metadata": {
        "id": "egJQ1DZEmaSm"
      }
    },
    {
      "cell_type": "code",
      "source": [
        "# Training\n",
        "X_train_tensor = torch.tensor(X_train, dtype=torch.float32).permute(0, 2, 1)\n",
        "y_train_tensor = torch.tensor(y_train, dtype=torch.float32)\n",
        "X_test_tensor = torch.tensor(X_test, dtype=torch.float32).permute(0, 2, 1)\n",
        "y_test_tensor = torch.tensor(y_test, dtype=torch.float32)\n",
        "\n",
        "train_loader = DataLoader(TensorDataset(X_train_tensor, y_train_tensor), batch_size=64, shuffle=True)\n",
        "test_loader = DataLoader(TensorDataset(X_test_tensor, y_test_tensor), batch_size=64)\n",
        "\n",
        "model = LSTM1D().to(device)\n",
        "criterion = nn.BCEWithLogitsLoss()\n",
        "optimizer = torch.optim.Adam(model.parameters(), lr=1e-3)\n",
        "\n",
        "epochs = 50\n",
        "best_loss = float('inf')\n",
        "patience = 5\n",
        "patience_counter = 0\n",
        "best_epoch = 0\n",
        "\n",
        "train_losses = []\n",
        "test_losses = []\n",
        "train_accuracies= []\n",
        "test_accuracies = []\n",
        "\n",
        "for epoch in range(epochs):\n",
        "    model.train()\n",
        "    train_loss, correct, total = 0, 0, 0\n",
        "    for X_batch, y_batch in train_loader:\n",
        "        X_batch, y_batch = X_batch.to(device), y_batch.to(device)\n",
        "        optimizer.zero_grad()\n",
        "        outputs = model(X_batch)\n",
        "        loss = criterion(outputs, y_batch)\n",
        "        loss.backward()\n",
        "        optimizer.step()\n",
        "        train_loss += loss.item() * X_batch.size(0)\n",
        "        preds = (torch.sigmoid(outputs) > 0.5).float()\n",
        "        correct += (preds == y_batch).all(dim=1).sum().item()\n",
        "        total += y_batch.size(0)\n",
        "    train_losses.append(train_loss / total)\n",
        "    train_accuracies.append(correct / total)\n",
        "\n",
        "    # Evaluation\n",
        "    model.eval()\n",
        "    test_loss, correct, total = 0, 0, 0\n",
        "    with torch.no_grad():\n",
        "        for X_batch, y_batch in test_loader:\n",
        "            X_batch, y_batch = X_batch.to(device), y_batch.to(device)\n",
        "            outputs = model(X_batch)\n",
        "            loss = criterion(outputs, y_batch)\n",
        "            test_loss += loss.item() * X_batch.size(0)\n",
        "            preds = (torch.sigmoid(outputs) > 0.5).float()\n",
        "            correct += (preds == y_batch).all(dim=1).sum().item()\n",
        "            total += y_batch.size(0)\n",
        "    test_losses.append(test_loss / total)\n",
        "    test_accuracies.append(correct / total)\n",
        "\n",
        "    if test_losses[-1] < best_loss:\n",
        "        best_loss = test_losses[-1]\n",
        "        best_epoch = epoch + 1\n",
        "        patience_counter = 0\n",
        "        torch.save(model.state_dict(), \"best_lstm_model.pt\")\n",
        "        print(f\"Best model saved at epoch {epoch+1}\")\n",
        "    else:\n",
        "        patience_counter += 1\n",
        "        if patience_counter >= patience:\n",
        "            print(f\"Early stopping at epoch {epoch+1} (best at epoch {best_epoch})\")\n",
        "            break\n",
        "\n",
        "    print(f\"Epoch {epoch+1}: Train Loss={train_losses[-1]:.4f}, Test Loss={test_losses[-1]:.4f}\")"
      ],
      "metadata": {
        "id": "4OaidGHmkFJX",
        "colab": {
          "base_uri": "https://localhost:8080/"
        },
        "outputId": "e8325223-eaa5-4b0e-93b0-ae7094751dc8"
      },
      "execution_count": null,
      "outputs": [
        {
          "output_type": "stream",
          "name": "stdout",
          "text": [
            "Best model saved at epoch 1\n",
            "Epoch 1: Train Loss=0.4764, Test Loss=0.3989\n",
            "Best model saved at epoch 2\n",
            "Epoch 2: Train Loss=0.3775, Test Loss=0.3568\n",
            "Epoch 3: Train Loss=0.3548, Test Loss=0.4555\n",
            "Best model saved at epoch 4\n",
            "Epoch 4: Train Loss=0.3492, Test Loss=0.3438\n",
            "Best model saved at epoch 5\n",
            "Epoch 5: Train Loss=0.3232, Test Loss=0.3419\n",
            "Best model saved at epoch 6\n",
            "Epoch 6: Train Loss=0.3932, Test Loss=0.3364\n",
            "Best model saved at epoch 7\n",
            "Epoch 7: Train Loss=0.3128, Test Loss=0.3179\n",
            "Best model saved at epoch 8\n",
            "Epoch 8: Train Loss=0.2983, Test Loss=0.3172\n",
            "Best model saved at epoch 9\n",
            "Epoch 9: Train Loss=0.2919, Test Loss=0.3020\n",
            "Best model saved at epoch 10\n",
            "Epoch 10: Train Loss=0.2829, Test Loss=0.2956\n",
            "Best model saved at epoch 11\n",
            "Epoch 11: Train Loss=0.2750, Test Loss=0.2951\n",
            "Epoch 12: Train Loss=0.2669, Test Loss=0.2962\n",
            "Best model saved at epoch 13\n",
            "Epoch 13: Train Loss=0.2659, Test Loss=0.2869\n",
            "Epoch 14: Train Loss=0.2620, Test Loss=0.3000\n",
            "Epoch 15: Train Loss=0.2566, Test Loss=0.2912\n",
            "Epoch 16: Train Loss=0.2515, Test Loss=0.2884\n",
            "Best model saved at epoch 17\n",
            "Epoch 17: Train Loss=0.2539, Test Loss=0.2832\n",
            "Epoch 18: Train Loss=0.2494, Test Loss=0.2859\n",
            "Best model saved at epoch 19\n",
            "Epoch 19: Train Loss=0.2471, Test Loss=0.2824\n",
            "Epoch 20: Train Loss=0.2401, Test Loss=0.2884\n",
            "Best model saved at epoch 21\n",
            "Epoch 21: Train Loss=0.2459, Test Loss=0.2764\n",
            "Epoch 22: Train Loss=0.2486, Test Loss=0.2810\n",
            "Epoch 23: Train Loss=0.2388, Test Loss=0.2855\n",
            "Epoch 24: Train Loss=0.2337, Test Loss=0.2818\n",
            "Epoch 25: Train Loss=0.2441, Test Loss=0.3368\n",
            "Early stopping at epoch 26 (best at epoch 21)\n"
          ]
        }
      ]
    },
    {
      "cell_type": "code",
      "source": [
        "import matplotlib.pyplot as plt\n",
        "\n",
        "plt.figure(figsize=(12, 4))\n",
        "\n",
        "epochs_range = range(1, len(train_losses) + 1)  # Start at 1 instead of 0\n",
        "\n",
        "# Loss per Epoch\n",
        "plt.subplot(1, 2, 1)\n",
        "plt.plot(epochs_range, train_losses, label='Train Loss')\n",
        "plt.plot(epochs_range, test_losses, label='Test Loss')\n",
        "plt.axvline(best_epoch, color='r', linestyle='--', label=f'Best Epoch ({best_epoch})')\n",
        "plt.title('Loss per Epoch')\n",
        "plt.xlabel('Epoch')\n",
        "plt.ylabel('Loss')\n",
        "plt.xticks(range(1, len(train_losses) + 1, 2))  # Integer ticks starting at 1\n",
        "plt.legend()\n",
        "\n",
        "# Accuracy per Epoch\n",
        "plt.subplot(1, 2, 2)\n",
        "plt.plot(epochs_range, train_accuracies, label='Train Accuracy')\n",
        "plt.plot(epochs_range, test_accuracies, label='Test Accuracy')\n",
        "plt.axvline(best_epoch, color='r', linestyle='--', label=f'Best Epoch ({best_epoch})')\n",
        "plt.title('Accuracy per Epoch')\n",
        "plt.xlabel('Epoch')\n",
        "plt.ylabel('Accuracy')\n",
        "plt.xticks(range(1, len(train_accuracies) + 1, 2))\n",
        "plt.legend()\n",
        "plt.tight_layout()\n",
        "lstm_plot_path = os.path.join(output_dir, \"lstm_loss_acc_curves.png\")\n",
        "plt.savefig(lstm_plot_path)\n",
        "plt.show()"
      ],
      "metadata": {
        "colab": {
          "base_uri": "https://localhost:8080/",
          "height": 403
        },
        "id": "zJ6E0hvDrnfH",
        "outputId": "60afb714-adcd-468f-dd96-cbe48cffcf14"
      },
      "execution_count": null,
      "outputs": [
        {
          "output_type": "display_data",
          "data": {
            "text/plain": [
              "<Figure size 1200x400 with 2 Axes>"
            ],
            "image/png": "[encoded data removed]"
          },
          "metadata": {}
        }
      ]
    },
    {
      "cell_type": "code",
      "source": [
        "# Load best model for evaluation\n",
        "model.load_state_dict(torch.load(\"best_lstm_model.pt\"))\n",
        "model.eval()\n",
        "\n",
        "# Subset accuracy and loss\n",
        "correct, total, test_loss = 0, 0, 0\n",
        "with torch.no_grad():\n",
        "    for X_batch, y_batch in test_loader:\n",
        "        X_batch, y_batch = X_batch.to(device), y_batch.to(device)\n",
        "        outputs = model(X_batch)\n",
        "        loss = criterion(outputs, y_batch)\n",
        "        test_loss += loss.item() * X_batch.size(0)\n",
        "        preds = (torch.sigmoid(outputs) > 0.5).float()\n",
        "        correct += (preds == y_batch).all(dim=1).sum().item()\n",
        "        total += y_batch.size(0)\n",
        "\n",
        "final_loss = test_loss / total\n",
        "final_acc = correct / total\n",
        "print(f\"Best model test loss: {final_loss:.4f}\")\n",
        "print(f\"Best model test subset accuracy: {final_acc:.4f}\")"
      ],
      "metadata": {
        "id": "11hZVF9ZrpbV",
        "colab": {
          "base_uri": "https://localhost:8080/"
        },
        "outputId": "305e4baa-9c3c-43c1-f96f-442dca00f1a6"
      },
      "execution_count": null,
      "outputs": [
        {
          "output_type": "stream",
          "name": "stdout",
          "text": [
            "Best model test loss: 0.2764\n",
            "Best model test subset accuracy: 0.7604\n"
          ]
        }
      ]
    },
    {
      "cell_type": "code",
      "source": [
        "from sklearn.metrics import classification_report, hamming_loss\n",
        "\n",
        "all_preds = []\n",
        "all_labels = []\n",
        "\n",
        "with torch.no_grad():\n",
        "    for X_batch, y_batch in test_loader:\n",
        "        X_batch = X_batch.to(device)\n",
        "        outputs = model(X_batch)\n",
        "        preds = (torch.sigmoid(outputs) > 0.5).cpu().numpy()\n",
        "        all_preds.append(preds)\n",
        "        all_labels.append(y_batch.numpy())\n",
        "\n",
        "all_preds = np.vstack(all_preds)\n",
        "all_labels = np.vstack(all_labels)\n",
        "\n",
        "# Metrics\n",
        "print(classification_report(all_labels, all_preds, target_names=mlb.classes_, digits=4))\n",
        "print(f\"Hamming Loss: {hamming_loss(all_labels, all_preds):.4f}\")"
      ],
      "metadata": {
        "id": "9Ckkm0DRkJGf",
        "colab": {
          "base_uri": "https://localhost:8080/"
        },
        "outputId": "a7e49ff9-c808-4288-e6a6-c8e02fb94e1e"
      },
      "execution_count": null,
      "outputs": [
        {
          "output_type": "stream",
          "name": "stdout",
          "text": [
            "              precision    recall  f1-score   support\n",
            "\n",
            "        NORM     0.8718    0.9107    0.8908       963\n",
            "          MI     0.8028    0.7255    0.7622       550\n",
            "        STTC     0.8069    0.7620    0.7838       521\n",
            "\n",
            "   micro avg     0.8386    0.8225    0.8305      2034\n",
            "   macro avg     0.8272    0.7994    0.8123      2034\n",
            "weighted avg     0.8365    0.8225    0.8286      2034\n",
            " samples avg     0.8215    0.8295    0.8183      2034\n",
            "\n",
            "Hamming Loss: 0.1204\n"
          ]
        },
        {
          "output_type": "stream",
          "name": "stderr",
          "text": [
            "/usr/local/lib/python3.11/dist-packages/sklearn/metrics/_classification.py:1565: UndefinedMetricWarning: Precision is ill-defined and being set to 0.0 in samples with no predicted labels. Use `zero_division` parameter to control this behavior.\n",
            "  _warn_prf(average, modifier, f\"{metric.capitalize()} is\", len(result))\n"
          ]
        }
      ]
    }
  ]
}